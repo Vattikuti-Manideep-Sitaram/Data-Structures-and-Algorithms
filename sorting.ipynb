{
 "cells": [
  {
   "cell_type": "markdown",
   "id": "e94d60f3",
   "metadata": {},
   "source": [
    "### Selection Sort"
   ]
  },
  {
   "cell_type": "code",
   "execution_count": null,
   "id": "c2a14bde",
   "metadata": {},
   "outputs": [],
   "source": [
    "from sorting import selection_sort\n",
    "\n",
    "data = [4, 3, 5, 6, 1]\n",
    "print(selection_sort(data))\n"
   ]
  },
  {
   "cell_type": "code",
   "execution_count": null,
   "id": "32522936",
   "metadata": {},
   "outputs": [],
   "source": [
    "from sorting import bubble_sort\n",
    "\n",
    "data = [4, 3, 2, 5, 1, 6, 23, 54, -1]\n",
    "print(bubble_sort(data))\n"
   ]
  },
  {
   "cell_type": "code",
   "execution_count": 33,
   "id": "ef3ad423",
   "metadata": {},
   "outputs": [
    {
     "name": "stdout",
     "output_type": "stream",
     "text": [
      "[9, 13, 20, 25, 46, 52]\n"
     ]
    }
   ],
   "source": [
    "def insertion_sort(arr):\n",
    "    n = len(arr)\n",
    "    \n",
    "    for i in range(n):\n",
    "        curr_ele = arr[i]\n",
    "        j = i-1\n",
    "        \n",
    "        while j>=0 and arr[j]>curr_ele:\n",
    "            arr[j+1] = arr[j]\n",
    "            j-=1\n",
    "        arr[j+1] = curr_ele\n",
    "\n",
    "    print(arr)\n",
    "\n",
    "insertion_sort([13,46,25,52,20,9])"
   ]
  },
  {
   "cell_type": "code",
   "execution_count": null,
   "id": "789f2171",
   "metadata": {},
   "outputs": [],
   "source": []
  }
 ],
 "metadata": {
  "kernelspec": {
   "display_name": "base",
   "language": "python",
   "name": "python3"
  },
  "language_info": {
   "codemirror_mode": {
    "name": "ipython",
    "version": 3
   },
   "file_extension": ".py",
   "mimetype": "text/x-python",
   "name": "python",
   "nbconvert_exporter": "python",
   "pygments_lexer": "ipython3",
   "version": "3.13.2"
  }
 },
 "nbformat": 4,
 "nbformat_minor": 5
}