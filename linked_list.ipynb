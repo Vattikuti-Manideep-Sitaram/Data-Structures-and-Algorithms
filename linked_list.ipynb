{
 "cells": [
  {
   "cell_type": "code",
   "execution_count": null,
   "id": "49adb97f",
   "metadata": {},
   "outputs": [],
   "source": [
    "class Node:\n",
    "    def __init__(self,data,next):\n",
    "        self.data=data\n",
    "        self.next=next\n",
    "\n",
    "class LinkedList:\n",
    "    \n",
    "    def __init__(self):\n",
    "        self.head_node=None\n",
    "        self.prev_node=None\n",
    "        \n",
    "    def add_node(self,data,next=None):\n",
    "        node = Node(data,next)\n",
    "        if self.head_node is None:\n",
    "            self.head_node=node\n",
    "            self.prev_node=node\n",
    "        else:\n",
    "            self.prev_node.next=node\n",
    "            self.prev_node=node\n",
    "    \n",
    "    def add_node_at_beginning(self,data):\n",
    "        node = Node(data,None)\n",
    "        node.next=self.head_node\n",
    "        self.head_node=node\n",
    "    \n",
    "    def add_node_at_end(self,data):\n",
    "        itr=self.head_node\n",
    "        node=Node(data,None)\n",
    "        \n",
    "        while(itr.next):\n",
    "            itr=itr.next\n",
    "            \n",
    "        itr.next=node\n",
    "        \n",
    "\n",
    "    def print_linked_list(self):\n",
    "        itr=self.head_node\n",
    "        print(\"Came here\")\n",
    "        while itr:\n",
    "            print(str(itr.data) + \" ---> \",end=\"\")\n",
    "            itr=itr.next\n",
    "            \n",
    "    def reverseList(self):\n",
    "        prev=None\n",
    "        curr=self.head_node\n",
    "        next_node=curr.next\n",
    "        while(curr):\n",
    "            curr.next=prev\n",
    "            print(f\"{curr.data}--->{prev.data if prev else prev}\")\n",
    "            prev=curr\n",
    "            print(f\"The current previous {prev.data}\")\n",
    "            curr=next_node\n",
    "            print(f\"The current node is {curr.data}\")\n",
    "            next_node=next_node.next\n",
    "            \n",
    "        self.head_node=curr\n",
    "            \n",
    "      "
   ]
  },
  {
   "cell_type": "code",
   "execution_count": 51,
   "id": "7b510db9",
   "metadata": {},
   "outputs": [
    {
     "name": "stdout",
     "output_type": "stream",
     "text": [
      "Came here\n",
      "1 ---> 2 ---> 3 ---> 4 ---> 5 ---> "
     ]
    }
   ],
   "source": [
    "linkedList = LinkedList()\n",
    "\n",
    "linkedList.add_node(1)\n",
    "linkedList.add_node(2)\n",
    "\n",
    "linkedList.add_node(3)\n",
    "\n",
    "linkedList.add_node(4)\n",
    "\n",
    "linkedList.add_node(5)\n",
    "\n",
    "linkedList.print_linked_list()\n",
    "\n"
   ]
  },
  {
   "cell_type": "code",
   "execution_count": 52,
   "id": "18d615c5",
   "metadata": {},
   "outputs": [
    {
     "name": "stdout",
     "output_type": "stream",
     "text": [
      "Came here\n",
      "1 ---> 2 ---> 3 ---> 4 ---> 5 ---> "
     ]
    }
   ],
   "source": [
    "# linkedList.add_node_at_beginning(6)\n",
    "linkedList.print_linked_list()"
   ]
  },
  {
   "cell_type": "code",
   "execution_count": 53,
   "id": "fe8728ce",
   "metadata": {},
   "outputs": [
    {
     "name": "stdout",
     "output_type": "stream",
     "text": [
      "1--->None\n",
      "The current previous 1\n",
      "The current node is 2\n",
      "2--->1\n",
      "The current previous 2\n",
      "The current node is 3\n",
      "3--->2\n",
      "The current previous 3\n",
      "The current node is 4\n",
      "4--->3\n",
      "The current previous 4\n",
      "The current node is 5\n",
      "Came here\n",
      "5 ---> "
     ]
    }
   ],
   "source": [
    "linkedList.reverseList()\n",
    "linkedList.print_linked_list()"
   ]
  },
  {
   "cell_type": "code",
   "execution_count": null,
   "id": "1b6dc5b9",
   "metadata": {},
   "outputs": [],
   "source": [
    "# Definition for singly-linked list.\n",
    "# class ListNode:\n",
    "#     def __init__(self, x):\n",
    "#         self.val = x\n",
    "#         self.next = None\n",
    "\n",
    "class Solution:\n",
    "    def hasCycle(self, head: Optional[ListNode]) -> bool:\n",
    "        itr = head\n",
    "        hash=set()\n",
    "        while(itr):\n",
    "            if itr in hash:\n",
    "                return True\n",
    "            hash.add(itr)\n",
    "            itr=itr.next\n",
    "        return False\n",
    "        "
   ]
  }
 ],
 "metadata": {
  "kernelspec": {
   "display_name": "Python 3",
   "language": "python",
   "name": "python3"
  },
  "language_info": {
   "codemirror_mode": {
    "name": "ipython",
    "version": 3
   },
   "file_extension": ".py",
   "mimetype": "text/x-python",
   "name": "python",
   "nbconvert_exporter": "python",
   "pygments_lexer": "ipython3",
   "version": "3.11.0"
  }
 },
 "nbformat": 4,
 "nbformat_minor": 5
}
