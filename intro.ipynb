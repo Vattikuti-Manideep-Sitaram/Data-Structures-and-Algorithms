{
 "cells": [
  {
   "cell_type": "markdown",
   "id": "b3cc8649",
   "metadata": {},
   "source": [
    "### Pattern Problems"
   ]
  },
  {
   "cell_type": "code",
   "execution_count": 8,
   "id": "78bf0f59",
   "metadata": {},
   "outputs": [
    {
     "name": "stdout",
     "output_type": "stream",
     "text": [
      "1\n",
      "22\n",
      "333\n",
      "4444\n",
      "55555\n"
     ]
    }
   ],
   "source": [
    "def print_pattern_1(n:int):\n",
    "    for row in range(1,n+1):\n",
    "        for col in range(1,row+1):\n",
    "            print(row,end=\"\")\n",
    "        print()\n",
    "            \n",
    "print_pattern_1(5)"
   ]
  },
  {
   "cell_type": "code",
   "execution_count": 16,
   "id": "ceac44a6",
   "metadata": {},
   "outputs": [
    {
     "name": "stdout",
     "output_type": "stream",
     "text": [
      "12345\n",
      "1234\n",
      "123\n",
      "12\n",
      "1\n"
     ]
    }
   ],
   "source": [
    "def print_pattern_2(n:int):\n",
    "    for i in range(n):\n",
    "        for j in range(1,n-i+1):\n",
    "            print(j,end=\"\")\n",
    "        print()\n",
    "            \n",
    "print_pattern_2(5)"
   ]
  },
  {
   "cell_type": "code",
   "execution_count": null,
   "id": "90c3c6d4",
   "metadata": {},
   "outputs": [
    {
     "name": "stdout",
     "output_type": "stream",
     "text": [
      "    *    \n",
      "\n",
      "   ***   \n",
      "\n",
      "  *****  \n",
      "\n",
      " ******* \n",
      "\n",
      "*********\n",
      "\n"
     ]
    }
   ],
   "source": [
    "def print_pattern_3(n:int):\n",
    "    for i in range(n,0,-1):\n",
    "        for j in range(i-1):\n",
    "            print(\" \",end=\"\")\n",
    "        print(\"*\"*(2*(n-i)+1),end=\"\")\n",
    "        \n",
    "        for j in range(i-1):\n",
    "            print(\" \",end=\"\")\n",
    "        \n",
    "        print()\n",
    "            \n",
    "print_pattern_3(5)"
   ]
  },
  {
   "cell_type": "code",
   "execution_count": 26,
   "id": "e0b6ef05",
   "metadata": {},
   "outputs": [
    {
     "name": "stdout",
     "output_type": "stream",
     "text": [
      "*********\n",
      "\n",
      " *******\n",
      " \n",
      "  *****\n",
      "  \n",
      "   ***\n",
      "   \n",
      "    *\n",
      "    \n"
     ]
    }
   ],
   "source": [
    "def print_pattern_4(n:int):\n",
    "    for i in range(n):\n",
    "        for j in range(i):\n",
    "            print(\" \",end=\"\")\n",
    "        print(\"*\"*(2*(n-i)-1))\n",
    "        for j in range(i):\n",
    "            print(\" \",end=\"\")\n",
    "        print()\n",
    "            \n",
    "print_pattern_4(5)"
   ]
  },
  {
   "cell_type": "code",
   "execution_count": 32,
   "id": "200f0740",
   "metadata": {},
   "outputs": [
    {
     "name": "stdout",
     "output_type": "stream",
     "text": [
      "    *    \n",
      "   ***   \n",
      "  *****  \n",
      " ******* \n",
      "*********\n",
      "*********\n",
      " ******* \n",
      "  *****  \n",
      "   ***   \n",
      "    *    \n"
     ]
    }
   ],
   "source": [
    "def print_pattern_5(n:int):\n",
    "    for i in range(n):\n",
    "        for j in range(n-i-1):\n",
    "            print(\" \",end=\"\")\n",
    "            \n",
    "        print(\"*\"*(2*i+1),end=\"\")\n",
    "        \n",
    "        for j in range(n-i-1):\n",
    "            print(\" \",end=\"\")\n",
    "        \n",
    "        print()\n",
    "        \n",
    "    for i in range(n):\n",
    "        \n",
    "        for j in range(i):\n",
    "            print(\" \",end=\"\")\n",
    "            \n",
    "        print(\"*\"*(2*(n-i)-1),end=\"\")\n",
    "        \n",
    "        for j in range(i):\n",
    "            print(\" \",end=\"\")\n",
    "        print()\n",
    "            \n",
    "print_pattern_5(5)"
   ]
  },
  {
   "cell_type": "code",
   "execution_count": 37,
   "id": "37c03a5f",
   "metadata": {},
   "outputs": [
    {
     "name": "stdout",
     "output_type": "stream",
     "text": [
      "1\n",
      "01\n",
      "101\n",
      "0101\n",
      "10101\n"
     ]
    }
   ],
   "source": [
    "def print_pattern_6(n:int):\n",
    "    \n",
    "    for i in range(1,n+1):\n",
    "        for j in range(i):\n",
    "            if i ==0 and j == 0:\n",
    "                print(1,end=\"\")\n",
    "            elif (i+j) %2 ==0:\n",
    "                print(0,end=\"\")\n",
    "            else:\n",
    "                print(1,end=\"\")\n",
    "        print()\n",
    "            \n",
    "            \n",
    "print_pattern_6(5)"
   ]
  },
  {
   "cell_type": "code",
   "execution_count": 47,
   "id": "041550c0",
   "metadata": {},
   "outputs": [
    {
     "name": "stdout",
     "output_type": "stream",
     "text": [
      "1      1\n",
      "12    21\n",
      "123  321\n",
      "12344321\n"
     ]
    }
   ],
   "source": [
    "def print_pattern_7(n:int):\n",
    "    \n",
    "    for i in range(1,n+1):\n",
    "        for j in range(1,i+1):\n",
    "            print(j,end=\"\")\n",
    "        for j in range(2*(n-i)):\n",
    "            print(\" \",end=\"\")\n",
    "        for j in range(i,0,-1):\n",
    "            print(j,end=\"\")\n",
    "        print()\n",
    "            \n",
    "            \n",
    "print_pattern_7(4)"
   ]
  },
  {
   "cell_type": "code",
   "execution_count": 52,
   "id": "57fb329a",
   "metadata": {},
   "outputs": [
    {
     "name": "stdout",
     "output_type": "stream",
     "text": [
      "1 \n",
      "2 3 \n",
      "4 5 6 \n",
      "7 8 9 10 \n",
      "11 12 13 14 15 \n"
     ]
    }
   ],
   "source": [
    "def print_pattern_8(n:int):\n",
    "    c = 1\n",
    "    for i in range(n):\n",
    "        for j in range(i+1):\n",
    "            print(c,end=\" \")\n",
    "            c+=1\n",
    "        print()\n",
    "            \n",
    "print_pattern_8(5)"
   ]
  },
  {
   "cell_type": "code",
   "execution_count": 5,
   "id": "c94d8c83",
   "metadata": {},
   "outputs": [
    {
     "data": {
      "text/plain": [
       "'B'"
      ]
     },
     "execution_count": 5,
     "metadata": {},
     "output_type": "execute_result"
    }
   ],
   "source": [
    "chr(ord('A') + 1)"
   ]
  },
  {
   "cell_type": "code",
   "execution_count": 9,
   "id": "870f4d84",
   "metadata": {},
   "outputs": [
    {
     "name": "stdout",
     "output_type": "stream",
     "text": [
      "A\n",
      "AB\n",
      "ABC\n",
      "ABCD\n",
      "ABCDE\n"
     ]
    }
   ],
   "source": [
    "\n",
    "for i in range(5):\n",
    "    letter = 'A'\n",
    "    for j in range(i+1):\n",
    "        print(chr(ord(letter)+j),end=\"\")\n",
    "    print()"
   ]
  },
  {
   "cell_type": "code",
   "execution_count": 11,
   "id": "3283c97e",
   "metadata": {},
   "outputs": [
    {
     "name": "stdout",
     "output_type": "stream",
     "text": [
      "ABCDE\n",
      "BCDE\n",
      "CDE\n",
      "DE\n",
      "E\n"
     ]
    }
   ],
   "source": [
    "for i in range(5):\n",
    "    letter = 'A'\n",
    "    for j in range(i,5):\n",
    "        print(chr(ord(letter)+j),end=\"\")\n",
    "    print()"
   ]
  },
  {
   "cell_type": "code",
   "execution_count": 14,
   "id": "e31cd36f",
   "metadata": {},
   "outputs": [
    {
     "name": "stdout",
     "output_type": "stream",
     "text": [
      "A\n",
      "BB\n",
      "CCC\n",
      "DDDD\n",
      "EEEEE\n"
     ]
    }
   ],
   "source": [
    "for i in range(5):\n",
    "    letter='A'\n",
    "    for j in range(i+1):\n",
    "        print(chr(ord(letter)+i),end=\"\")\n",
    "    print()"
   ]
  },
  {
   "cell_type": "code",
   "execution_count": 20,
   "id": "c2cc3423",
   "metadata": {},
   "outputs": [
    {
     "name": "stdout",
     "output_type": "stream",
     "text": [
      "E\n",
      "DE\n",
      "CDE\n",
      "BCDE\n",
      "ABCDE\n"
     ]
    }
   ],
   "source": [
    "for i in range(5):\n",
    "    letter = 'F'\n",
    "    for j in range(i+1,0,-1):\n",
    "        print(chr(ord(letter)-j),end=\"\")\n",
    "    print()"
   ]
  },
  {
   "cell_type": "code",
   "execution_count": 21,
   "id": "7963d93e",
   "metadata": {},
   "outputs": [
    {
     "name": "stdout",
     "output_type": "stream",
     "text": [
      "4 4 4 4 4 4 4 \n",
      "4 3 3 3 3 3 4 \n",
      "4 3 2 2 2 3 4 \n",
      "4 3 2 1 2 3 4 \n",
      "4 3 2 2 2 3 4 \n",
      "4 3 3 3 3 3 4 \n",
      "4 4 4 4 4 4 4 \n"
     ]
    }
   ],
   "source": [
    "n=4\n",
    "size = 2*n-1 \n",
    "for i in range(size):\n",
    "    for j in range(size):\n",
    "         top = i\n",
    "         left = j\n",
    "         bottom = size - 1 -i\n",
    "         right = size - 1 -j\n",
    "         \n",
    "         index = min(top,left,bottom,right)\n",
    "         \n",
    "         print(n-index,end= \" \")\n",
    "    print()\n",
    "        "
   ]
  },
  {
   "cell_type": "code",
   "execution_count": null,
   "id": "05b1f47a",
   "metadata": {},
   "outputs": [],
   "source": []
  }
 ],
 "metadata": {
  "kernelspec": {
   "display_name": "base",
   "language": "python",
   "name": "python3"
  },
  "language_info": {
   "codemirror_mode": {
    "name": "ipython",
    "version": 3
   },
   "file_extension": ".py",
   "mimetype": "text/x-python",
   "name": "python",
   "nbconvert_exporter": "python",
   "pygments_lexer": "ipython3",
   "version": "3.13.2"
  }
 },
 "nbformat": 4,
 "nbformat_minor": 5
}
