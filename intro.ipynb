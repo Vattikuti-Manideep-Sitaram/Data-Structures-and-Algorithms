{
 "cells": [
  {
   "cell_type": "markdown",
   "id": "b3cc8649",
   "metadata": {},
   "source": [
    "### Pattern Problems"
   ]
  },
  {
   "cell_type": "code",
   "execution_count": 8,
   "id": "78bf0f59",
   "metadata": {},
   "outputs": [
    {
     "name": "stdout",
     "output_type": "stream",
     "text": [
      "1\n",
      "22\n",
      "333\n",
      "4444\n",
      "55555\n"
     ]
    }
   ],
   "source": [
    "def print_pattern_1(n:int):\n",
    "    for row in range(1,n+1):\n",
    "        for col in range(1,row+1):\n",
    "            print(row,end=\"\")\n",
    "        print()\n",
    "            \n",
    "print_pattern_1(5)"
   ]
  },
  {
   "cell_type": "code",
   "execution_count": 16,
   "id": "ceac44a6",
   "metadata": {},
   "outputs": [
    {
     "name": "stdout",
     "output_type": "stream",
     "text": [
      "12345\n",
      "1234\n",
      "123\n",
      "12\n",
      "1\n"
     ]
    }
   ],
   "source": [
    "def print_pattern_2(n:int):\n",
    "    for i in range(n):\n",
    "        for j in range(1,n-i+1):\n",
    "            print(j,end=\"\")\n",
    "        print()\n",
    "            \n",
    "print_pattern_2(5)"
   ]
  },
  {
   "cell_type": "code",
   "execution_count": null,
   "id": "90c3c6d4",
   "metadata": {},
   "outputs": [
    {
     "name": "stdout",
     "output_type": "stream",
     "text": [
      "    *    \n",
      "\n",
      "   ***   \n",
      "\n",
      "  *****  \n",
      "\n",
      " ******* \n",
      "\n",
      "*********\n",
      "\n"
     ]
    }
   ],
   "source": [
    "def print_pattern_3(n:int):\n",
    "    for i in range(n,0,-1):\n",
    "        for j in range(i-1):\n",
    "            print(\" \",end=\"\")\n",
    "        print(\"*\"*(2*(n-i)+1),end=\"\")\n",
    "        \n",
    "        for j in range(i-1):\n",
    "            print(\" \",end=\"\")\n",
    "        \n",
    "        print()\n",
    "            \n",
    "print_pattern_3(5)"
   ]
  },
  {
   "cell_type": "code",
   "execution_count": 26,
   "id": "e0b6ef05",
   "metadata": {},
   "outputs": [
    {
     "name": "stdout",
     "output_type": "stream",
     "text": [
      "*********\n",
      "\n",
      " *******\n",
      " \n",
      "  *****\n",
      "  \n",
      "   ***\n",
      "   \n",
      "    *\n",
      "    \n"
     ]
    }
   ],
   "source": [
    "def print_pattern_4(n:int):\n",
    "    for i in range(n):\n",
    "        for j in range(i):\n",
    "            print(\" \",end=\"\")\n",
    "        print(\"*\"*(2*(n-i)-1))\n",
    "        for j in range(i):\n",
    "            print(\" \",end=\"\")\n",
    "        print()\n",
    "            \n",
    "print_pattern_4(5)"
   ]
  },
  {
   "cell_type": "code",
   "execution_count": 32,
   "id": "200f0740",
   "metadata": {},
   "outputs": [
    {
     "name": "stdout",
     "output_type": "stream",
     "text": [
      "    *    \n",
      "   ***   \n",
      "  *****  \n",
      " ******* \n",
      "*********\n",
      "*********\n",
      " ******* \n",
      "  *****  \n",
      "   ***   \n",
      "    *    \n"
     ]
    }
   ],
   "source": [
    "def print_pattern_5(n:int):\n",
    "    for i in range(n):\n",
    "        for j in range(n-i-1):\n",
    "            print(\" \",end=\"\")\n",
    "            \n",
    "        print(\"*\"*(2*i+1),end=\"\")\n",
    "        \n",
    "        for j in range(n-i-1):\n",
    "            print(\" \",end=\"\")\n",
    "        \n",
    "        print()\n",
    "        \n",
    "    for i in range(n):\n",
    "        \n",
    "        for j in range(i):\n",
    "            print(\" \",end=\"\")\n",
    "            \n",
    "        print(\"*\"*(2*(n-i)-1),end=\"\")\n",
    "        \n",
    "        for j in range(i):\n",
    "            print(\" \",end=\"\")\n",
    "        print()\n",
    "            \n",
    "print_pattern_5(5)"
   ]
  },
  {
   "cell_type": "code",
   "execution_count": 37,
   "id": "37c03a5f",
   "metadata": {},
   "outputs": [
    {
     "name": "stdout",
     "output_type": "stream",
     "text": [
      "1\n",
      "01\n",
      "101\n",
      "0101\n",
      "10101\n"
     ]
    }
   ],
   "source": [
    "def print_pattern_6(n:int):\n",
    "    \n",
    "    for i in range(1,n+1):\n",
    "        for j in range(i):\n",
    "            if i ==0 and j == 0:\n",
    "                print(1,end=\"\")\n",
    "            elif (i+j) %2 ==0:\n",
    "                print(0,end=\"\")\n",
    "            else:\n",
    "                print(1,end=\"\")\n",
    "        print()\n",
    "            \n",
    "            \n",
    "print_pattern_6(5)"
   ]
  },
  {
   "cell_type": "code",
   "execution_count": 47,
   "id": "041550c0",
   "metadata": {},
   "outputs": [
    {
     "name": "stdout",
     "output_type": "stream",
     "text": [
      "1      1\n",
      "12    21\n",
      "123  321\n",
      "12344321\n"
     ]
    }
   ],
   "source": [
    "def print_pattern_7(n:int):\n",
    "    \n",
    "    for i in range(1,n+1):\n",
    "        for j in range(1,i+1):\n",
    "            print(j,end=\"\")\n",
    "        for j in range(2*(n-i)):\n",
    "            print(\" \",end=\"\")\n",
    "        for j in range(i,0,-1):\n",
    "            print(j,end=\"\")\n",
    "        print()\n",
    "            \n",
    "            \n",
    "print_pattern_7(4)"
   ]
  },
  {
   "cell_type": "code",
   "execution_count": 52,
   "id": "57fb329a",
   "metadata": {},
   "outputs": [
    {
     "name": "stdout",
     "output_type": "stream",
     "text": [
      "1 \n",
      "2 3 \n",
      "4 5 6 \n",
      "7 8 9 10 \n",
      "11 12 13 14 15 \n"
     ]
    }
   ],
   "source": [
    "def print_pattern_8(n:int):\n",
    "    c = 1\n",
    "    for i in range(n):\n",
    "        for j in range(i+1):\n",
    "            print(c,end=\" \")\n",
    "            c+=1\n",
    "        print()\n",
    "            \n",
    "print_pattern_8(5)"
   ]
  },
  {
   "cell_type": "code",
   "execution_count": 5,
   "id": "c94d8c83",
   "metadata": {},
   "outputs": [
    {
     "data": {
      "text/plain": [
       "'B'"
      ]
     },
     "execution_count": 5,
     "metadata": {},
     "output_type": "execute_result"
    }
   ],
   "source": [
    "chr(ord('A') + 1)"
   ]
  },
  {
   "cell_type": "code",
   "execution_count": 9,
   "id": "870f4d84",
   "metadata": {},
   "outputs": [
    {
     "name": "stdout",
     "output_type": "stream",
     "text": [
      "A\n",
      "AB\n",
      "ABC\n",
      "ABCD\n",
      "ABCDE\n"
     ]
    }
   ],
   "source": [
    "\n",
    "for i in range(5):\n",
    "    letter = 'A'\n",
    "    for j in range(i+1):\n",
    "        print(chr(ord(letter)+j),end=\"\")\n",
    "    print()"
   ]
  },
  {
   "cell_type": "code",
   "execution_count": 11,
   "id": "3283c97e",
   "metadata": {},
   "outputs": [
    {
     "name": "stdout",
     "output_type": "stream",
     "text": [
      "ABCDE\n",
      "BCDE\n",
      "CDE\n",
      "DE\n",
      "E\n"
     ]
    }
   ],
   "source": [
    "for i in range(5):\n",
    "    letter = 'A'\n",
    "    for j in range(i,5):\n",
    "        print(chr(ord(letter)+j),end=\"\")\n",
    "    print()"
   ]
  },
  {
   "cell_type": "code",
   "execution_count": 14,
   "id": "e31cd36f",
   "metadata": {},
   "outputs": [
    {
     "name": "stdout",
     "output_type": "stream",
     "text": [
      "A\n",
      "BB\n",
      "CCC\n",
      "DDDD\n",
      "EEEEE\n"
     ]
    }
   ],
   "source": [
    "for i in range(5):\n",
    "    letter='A'\n",
    "    for j in range(i+1):\n",
    "        print(chr(ord(letter)+i),end=\"\")\n",
    "    print()"
   ]
  },
  {
   "cell_type": "code",
   "execution_count": 20,
   "id": "c2cc3423",
   "metadata": {},
   "outputs": [
    {
     "name": "stdout",
     "output_type": "stream",
     "text": [
      "E\n",
      "DE\n",
      "CDE\n",
      "BCDE\n",
      "ABCDE\n"
     ]
    }
   ],
   "source": [
    "for i in range(5):\n",
    "    letter = 'F'\n",
    "    for j in range(i+1,0,-1):\n",
    "        print(chr(ord(letter)-j),end=\"\")\n",
    "    print()"
   ]
  },
  {
   "cell_type": "code",
   "execution_count": 21,
   "id": "7963d93e",
   "metadata": {},
   "outputs": [
    {
     "name": "stdout",
     "output_type": "stream",
     "text": [
      "4 4 4 4 4 4 4 \n",
      "4 3 3 3 3 3 4 \n",
      "4 3 2 2 2 3 4 \n",
      "4 3 2 1 2 3 4 \n",
      "4 3 2 2 2 3 4 \n",
      "4 3 3 3 3 3 4 \n",
      "4 4 4 4 4 4 4 \n"
     ]
    }
   ],
   "source": [
    "n=4\n",
    "size = 2*n-1 \n",
    "for i in range(size):\n",
    "    for j in range(size):\n",
    "         top = i\n",
    "         left = j\n",
    "         bottom = size - 1 -i\n",
    "         right = size - 1 -j\n",
    "         \n",
    "         index = min(top,left,bottom,right)\n",
    "         \n",
    "         print(n-index,end= \" \")\n",
    "    print()\n",
    "        "
   ]
  },
  {
   "cell_type": "markdown",
   "id": "72a85dce",
   "metadata": {},
   "source": [
    "### Basic Math Problems"
   ]
  },
  {
   "cell_type": "code",
   "execution_count": 25,
   "id": "0e773a2b",
   "metadata": {},
   "outputs": [
    {
     "name": "stdout",
     "output_type": "stream",
     "text": [
      "4\n"
     ]
    }
   ],
   "source": [
    "n = 1234\n",
    "count = 0\n",
    "while(n):\n",
    "    n= n//10\n",
    "    count +=1\n",
    "print(count)"
   ]
  },
  {
   "cell_type": "code",
   "execution_count": 26,
   "id": "fbd7f80b",
   "metadata": {},
   "outputs": [
    {
     "name": "stdout",
     "output_type": "stream",
     "text": [
      "4\n"
     ]
    }
   ],
   "source": [
    "n = 1234\n",
    "count = 0\n",
    "while(n):\n",
    "    n= n//10\n",
    "    count +=1\n",
    "print(count)"
   ]
  },
  {
   "cell_type": "code",
   "execution_count": 27,
   "id": "4e346e38",
   "metadata": {},
   "outputs": [
    {
     "name": "stdout",
     "output_type": "stream",
     "text": [
      "4321\n"
     ]
    }
   ],
   "source": [
    "n = 1234\n",
    "ans = 0\n",
    "while(n):\n",
    "    rem = n% 10\n",
    "    n = n//10\n",
    "    ans = ans*10+rem\n",
    "print(ans)"
   ]
  },
  {
   "cell_type": "code",
   "execution_count": 29,
   "id": "da5e0b8c",
   "metadata": {},
   "outputs": [
    {
     "name": "stdout",
     "output_type": "stream",
     "text": [
      "False\n"
     ]
    }
   ],
   "source": [
    "some_str = \"abccbda\"\n",
    "print(some_str == some_str[::-1])"
   ]
  },
  {
   "cell_type": "code",
   "execution_count": 31,
   "id": "c70a6fd2",
   "metadata": {},
   "outputs": [],
   "source": [
    "from typing import List\n",
    "class Solution:\n",
    "    def findGCD(self, nums: List[int]) -> int:\n",
    "        mini = nums[0]\n",
    "        maxi = nums[0]\n",
    "\n",
    "        for i in range(len(nums)):\n",
    "            if nums[i] < mini:\n",
    "                mini = nums[i]\n",
    "            if nums[i] > maxi:\n",
    "                maxi = nums[i]\n",
    "        ans = 1\n",
    "        for i in range(mini,0,-1):\n",
    "            if (mini % i ==0 and maxi % i == 0):\n",
    "                ans = i\n",
    "                break\n",
    "        return ans\n",
    "\n",
    "        "
   ]
  },
  {
   "cell_type": "markdown",
   "id": "da4d3193",
   "metadata": {},
   "source": [
    "### Recursion"
   ]
  },
  {
   "cell_type": "code",
   "execution_count": null,
   "id": "61f127fe",
   "metadata": {},
   "outputs": [
    {
     "name": "stdout",
     "output_type": "stream",
     "text": [
      "Hi\n",
      "Hi\n",
      "Hi\n",
      "Hi\n",
      "Hi\n"
     ]
    }
   ],
   "source": [
    "def print_fn(n):\n",
    "    if (n ==0): return\n",
    "    print(\"Hi\")\n",
    "    \n",
    "\n",
    "print_fn(5)"
   ]
  },
  {
   "cell_type": "code",
   "execution_count": 7,
   "id": "40cfbbed",
   "metadata": {},
   "outputs": [
    {
     "data": {
      "text/plain": [
       "6"
      ]
     },
     "execution_count": 7,
     "metadata": {},
     "output_type": "execute_result"
    }
   ],
   "source": [
    "def sum_n(n):\n",
    "    if n == 0:\n",
    "        return 0\n",
    "    return n + sum_n(n-1)\n",
    "\n",
    "sum_n(3)"
   ]
  },
  {
   "cell_type": "code",
   "execution_count": 14,
   "id": "049e0074",
   "metadata": {},
   "outputs": [
    {
     "data": {
      "text/plain": [
       "False"
      ]
     },
     "execution_count": 14,
     "metadata": {},
     "output_type": "execute_result"
    }
   ],
   "source": [
    "def is_palindrome(sen, start,end):\n",
    "    if start == end or start > end:\n",
    "        return True\n",
    "    return sen[start] == sen[end] and is_palindrome(sen,start+1,end-1)\n",
    "\n",
    "sen = \"abcbadfasdfasa\"\n",
    "is_palindrome(sen,0,len(sen)-1)"
   ]
  },
  {
   "cell_type": "code",
   "execution_count": 15,
   "id": "b16132a6",
   "metadata": {},
   "outputs": [
    {
     "data": {
      "text/plain": [
       "8"
      ]
     },
     "execution_count": 15,
     "metadata": {},
     "output_type": "execute_result"
    }
   ],
   "source": [
    "def fibonacii_num(n):\n",
    "    if n == 0 or n ==1:\n",
    "        return n\n",
    "    return fibonacii_num(n-1) + fibonacii_num(n-2)\n",
    "\n",
    "fibonacii_num(6)"
   ]
  },
  {
   "cell_type": "code",
   "execution_count": null,
   "id": "7000f149",
   "metadata": {},
   "outputs": [
    {
     "name": "stdout",
     "output_type": "stream",
     "text": [
      "[9, 2, 3, 4, 5, 6, 7, 8, 1]\n"
     ]
    }
   ],
   "source": [
    "def reverse_array(arr,start,end):\n",
    "    if start == end or start > end:\n",
    "        return \n",
    "    arr[start],arr[end] = arr[end],arr[start]\n",
    "    reverse_array(arr,start+1 , end-1)\n",
    "\n",
    "nums = [1,2,3,4,5,6,7,8,9] \n",
    "reverse_array(nums,0,len(nums) - 1)\n",
    "print(nums)"
   ]
  },
  {
   "cell_type": "code",
   "execution_count": null,
   "id": "10f4b244",
   "metadata": {},
   "outputs": [],
   "source": []
  }
 ],
 "metadata": {
  "kernelspec": {
   "display_name": "base",
   "language": "python",
   "name": "python3"
  },
  "language_info": {
   "codemirror_mode": {
    "name": "ipython",
    "version": 3
   },
   "file_extension": ".py",
   "mimetype": "text/x-python",
   "name": "python",
   "nbconvert_exporter": "python",
   "pygments_lexer": "ipython3",
   "version": "3.13.2"
  }
 },
 "nbformat": 4,
 "nbformat_minor": 5
}
