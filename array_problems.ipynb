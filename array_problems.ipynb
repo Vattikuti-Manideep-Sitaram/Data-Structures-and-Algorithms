{
 "cells": [
  {
   "cell_type": "markdown",
   "id": "1bc6b7ea",
   "metadata": {},
   "source": [
    "### Find Second Smallest and Second Largest Element in an array "
   ]
  },
  {
   "cell_type": "code",
   "execution_count": 8,
   "id": "e3b5a47e",
   "metadata": {},
   "outputs": [],
   "source": [
    "def find_the_elements(nums:list):\n",
    "    if len(nums) == 1:\n",
    "        return -1\n",
    "    \n",
    "    nums.sort()\n",
    "    return (nums[1],nums[-2])"
   ]
  },
  {
   "cell_type": "code",
   "execution_count": 11,
   "id": "052a925b",
   "metadata": {},
   "outputs": [
    {
     "data": {
      "text/plain": [
       "(-3, -2)"
      ]
     },
     "execution_count": 11,
     "metadata": {},
     "output_type": "execute_result"
    }
   ],
   "source": [
    "find_the_elements([-5, -1, -3, -2])"
   ]
  },
  {
   "cell_type": "code",
   "execution_count": null,
   "id": "1044008e",
   "metadata": {},
   "outputs": [],
   "source": []
  }
 ],
 "metadata": {
  "kernelspec": {
   "display_name": "Python 3",
   "language": "python",
   "name": "python3"
  },
  "language_info": {
   "codemirror_mode": {
    "name": "ipython",
    "version": 3
   },
   "file_extension": ".py",
   "mimetype": "text/x-python",
   "name": "python",
   "nbconvert_exporter": "python",
   "pygments_lexer": "ipython3",
   "version": "3.11.0"
  }
 },
 "nbformat": 4,
 "nbformat_minor": 5
}
